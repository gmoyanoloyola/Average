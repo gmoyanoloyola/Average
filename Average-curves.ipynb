{
 "cells": [
  {
   "cell_type": "code",
   "execution_count": 3,
   "metadata": {
    "collapsed": false
   },
   "outputs": [],
   "source": [
    "#%matplotlib qt\n",
    "import numpy as np\n",
    "from pylab import *\n",
    "import matplotlib.pyplot as plt\n",
    "from matplotlib import pyplot\n",
    "from scipy.stats import binned_statistic\n",
    "from matplotlib import rcParams\n",
    "from matplotlib import rc\n",
    "font = {'family' : 'monospace',\n",
    "          'weight' : 'bold',\n",
    "          'size'   : 'larger'}\n",
    "matplotlib.rc('xtick', labelsize=14, c='black') \n",
    "matplotlib.rc('ytick', labelsize=14, c='black')"
   ]
  },
  {
   "cell_type": "code",
   "execution_count": 4,
   "metadata": {
    "collapsed": false
   },
   "outputs": [],
   "source": [
    "#List of folders\n",
    "#nt10,nb10,tphys10,trh10,mtot10,mc10,mout10,rmax10,rs010,r0110,rc10,nrh10,n1pc10,n1010,nc10,vdisp10=np.loadtxt('Clusters-10.dat',unpack=True)\n",
    "dat = np.loadtxt('Clusters-10.dat')"
   ]
  },
  {
   "cell_type": "code",
   "execution_count": 5,
   "metadata": {
    "collapsed": false
   },
   "outputs": [],
   "source": [
    "# Selecting data to use for average curve\n",
    "x = dat[:,2]\n",
    "y = dat[:,4]\n",
    "\n",
    "# Number of bins to split the data\n",
    "#znbins = 100\n",
    "\n",
    "# Calculating max and min values for x\n",
    "#xmin = min(tphys10)\n",
    "#xmax = max(tphys10)"
   ]
  },
  {
   "cell_type": "code",
   "execution_count": 6,
   "metadata": {
    "collapsed": false
   },
   "outputs": [],
   "source": [
    "data = dat[dat[:, 2].argsort()]"
   ]
  },
  {
   "cell_type": "code",
   "execution_count": 7,
   "metadata": {
    "collapsed": false
   },
   "outputs": [],
   "source": [
    "bin_means, bin_edges, binnumber = binned_statistic(x, y, statistic='mean', bins=100)\n",
    "bin_width = (bin_edges[1] - bin_edges[0])\n",
    "bin_centers = bin_edges[1:] - bin_width/2"
   ]
  },
  {
   "cell_type": "code",
   "execution_count": 8,
   "metadata": {
    "collapsed": true
   },
   "outputs": [],
   "source": [
    "bin_std, bin_edgesstd, binnumberstd = binned_statistic(x, y, statistic='std', bins=100)\n",
    "bin_widthstd = (bin_edgesstd[1] - bin_edgesstd[0])\n",
    "bin_centersstd = bin_edgesstd[1:] - bin_widthstd/2"
   ]
  },
  {
   "cell_type": "code",
   "execution_count": 10,
   "metadata": {
    "collapsed": false
   },
   "outputs": [],
   "source": [
    "#plt.hist(samples, bins=50, normed=True, histtype='stepfilled', alpha=0.2,label='histogram of data')\n",
    "#plt.plot(x,y, 'r', label='analytical pdf')\n",
    "#plt.hlines(bin_means, bin_edges[:-1], bin_edges[1:], colors='g', lw=2,label='binned statistic of data')\n",
    "\n",
    "plt.plot(bin_centers, bin_means, 'b-', alpha=0.90, lw=2)\n",
    "\n",
    "plt.fill_between(bin_centers, bin_means-bin_std, bin_means+bin_std, color='grey', alpha='0.75')\n",
    "plt.fill_between(bin_centers, bin_means-2*bin_std, bin_means+2*bin_std, color='grey', alpha='0.5')\n",
    "plt.fill_between(bin_centers, bin_means-3*bin_std, bin_means+3*bin_std, color='grey', alpha='0.25')\n",
    "\n",
    "plt.legend(fontsize=10)\n",
    "plt.show()\n",
    "\n",
    "#axhline(y=382.5, xmin=0, xmax=350,color='0.65',linewidth=2,ls='--')\n",
    "\n",
    "# Range\n",
    "#plt.axis([0,600,100,700])\n",
    "\n",
    "#plt.legend(loc='upper right',prop={'size':10})\n",
    "#plt.legend(scatterpoints=1)\n",
    "\n",
    "plt.xlabel(r'Time [Myr]',fontsize=16)\n",
    "plt.ylabel(r'Total mass [M$_{\\odot}$]',fontsize=16)\n",
    "\n",
    "#plt.text(500, 1300, r'1000 M$_{\\odot}$',fontsize=16,bbox=dict(facecolor='white'))\n",
    "\n",
    "plt.savefig('test1.eps',bbox_inches='tight',format='eps')"
   ]
  },
  {
   "cell_type": "code",
   "execution_count": null,
   "metadata": {
    "collapsed": true
   },
   "outputs": [],
   "source": []
  }
 ],
 "metadata": {
  "kernelspec": {
   "display_name": "Python 2",
   "language": "python",
   "name": "python2"
  },
  "language_info": {
   "codemirror_mode": {
    "name": "ipython",
    "version": 2
   },
   "file_extension": ".py",
   "mimetype": "text/x-python",
   "name": "python",
   "nbconvert_exporter": "python",
   "pygments_lexer": "ipython2",
   "version": "2.7.3"
  }
 },
 "nbformat": 4,
 "nbformat_minor": 0
}
